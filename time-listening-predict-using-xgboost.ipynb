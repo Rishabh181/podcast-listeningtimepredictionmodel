{
 "cells": [
  {
   "cell_type": "code",
   "execution_count": null,
   "id": "9f5ec8ec",
   "metadata": {
    "_cell_guid": "b1076dfc-b9ad-4769-8c92-a6c4dae69d19",
    "_uuid": "8f2839f25d086af736a60e9eeb907d3b93b6e0e5",
    "execution": {
     "iopub.execute_input": "2025-04-23T07:04:17.171351Z",
     "iopub.status.busy": "2025-04-23T07:04:17.170947Z",
     "iopub.status.idle": "2025-04-23T07:04:28.586871Z",
     "shell.execute_reply": "2025-04-23T07:04:28.585907Z"
    },
    "papermill": {
     "duration": 11.42622,
     "end_time": "2025-04-23T07:04:28.588607",
     "exception": false,
     "start_time": "2025-04-23T07:04:17.162387",
     "status": "completed"
    },
    "tags": []
   },
   "outputs": [],
   "source": [
    "import pandas as pd\n",
    "import numpy as np\n",
    "import matplotlib.pyplot as plt\n",
    "import seaborn as sns\n",
    "from sklearn.preprocessing import StandardScaler, OrdinalEncoder\n",
    "from sklearn.compose import ColumnTransformer\n",
    "from sklearn.linear_model import LinearRegression, Ridge\n",
    "from sklearn.ensemble import RandomForestRegressor\n",
    "import xgboost as xgb\n",
    "from sklearn.model_selection import KFold, GridSearchCV, train_test_split\n",
    "from sklearn.pipeline import Pipeline \n",
    "import lightgbm as lgb\n",
    "from sklearn.metrics import r2_score, mean_squared_error\n"
   ]
  },
  {
   "cell_type": "markdown",
   "id": "3f96a05e",
   "metadata": {
    "papermill": {
     "duration": 0.005386,
     "end_time": "2025-04-23T07:04:28.600449",
     "exception": false,
     "start_time": "2025-04-23T07:04:28.595063",
     "status": "completed"
    },
    "tags": []
   },
   "source": [
    "# Load Data"
   ]
  },
  {
   "cell_type": "code",
   "execution_count": null,
   "id": "ef8fa1a3",
   "metadata": {
    "execution": {
     "iopub.execute_input": "2025-04-23T07:04:28.614878Z",
     "iopub.status.busy": "2025-04-23T07:04:28.613835Z",
     "iopub.status.idle": "2025-04-23T07:04:31.280060Z",
     "shell.execute_reply": "2025-04-23T07:04:31.278237Z"
    },
    "papermill": {
     "duration": 2.674914,
     "end_time": "2025-04-23T07:04:31.282163",
     "exception": false,
     "start_time": "2025-04-23T07:04:28.607249",
     "status": "completed"
    },
    "tags": []
   },
   "outputs": [],
   "source": [
    "df = pd.read_csv(r'predict_podcast_listening_train.csv')\n",
    "df_test = pd.read_csv(r'podcast_listening_time_test.csv')\n"
   ]
  },
  {
   "cell_type": "markdown",
   "id": "2b0dff59",
   "metadata": {
    "papermill": {
     "duration": 0.005596,
     "end_time": "2025-04-23T07:04:31.293985",
     "exception": false,
     "start_time": "2025-04-23T07:04:31.288389",
     "status": "completed"
    },
    "tags": []
   },
   "source": [
    "# Understand the data"
   ]
  },
  {
   "cell_type": "code",
   "execution_count": null,
   "id": "9f9bfe8b",
   "metadata": {
    "execution": {
     "iopub.execute_input": "2025-04-23T07:04:31.308795Z",
     "iopub.status.busy": "2025-04-23T07:04:31.308420Z",
     "iopub.status.idle": "2025-04-23T07:04:31.815862Z",
     "shell.execute_reply": "2025-04-23T07:04:31.814729Z"
    },
    "papermill": {
     "duration": 0.516454,
     "end_time": "2025-04-23T07:04:31.817455",
     "exception": false,
     "start_time": "2025-04-23T07:04:31.301001",
     "status": "completed"
    },
    "tags": []
   },
   "outputs": [],
   "source": [
    "print(df.info())\n",
    "print(df.isnull().sum())"
   ]
  },
  {
   "cell_type": "code",
   "execution_count": null,
   "id": "c2357390",
   "metadata": {
    "execution": {
     "iopub.execute_input": "2025-04-23T07:04:31.832453Z",
     "iopub.status.busy": "2025-04-23T07:04:31.831550Z",
     "iopub.status.idle": "2025-04-23T07:04:32.166755Z",
     "shell.execute_reply": "2025-04-23T07:04:32.165643Z"
    },
    "papermill": {
     "duration": 0.34434,
     "end_time": "2025-04-23T07:04:32.168440",
     "exception": false,
     "start_time": "2025-04-23T07:04:31.824100",
     "status": "completed"
    },
    "tags": []
   },
   "outputs": [],
   "source": [
    "# There are 3 columns with missing values: 'Episode_Length_minutes', 'Guest_Popularity_percentage', 'Number_of_Ads'\n",
    "missing_percentages = (df.isnull().mean() * 100).sort_values(ascending=False)\n",
    "missing_values = missing_percentages[missing_percentages > 0]\n",
    "print(missing_values)\n",
    "print('Test data missing values')\n",
    "print('-'*40)\n",
    "missing_percentages = (df_test.isnull().mean() * 100).sort_values(ascending=False)\n",
    "missing_values = missing_percentages[missing_percentages > 0]\n",
    "print(missing_values)"
   ]
  },
  {
   "cell_type": "code",
   "execution_count": null,
   "id": "243b6b23",
   "metadata": {
    "execution": {
     "iopub.execute_input": "2025-04-23T07:04:32.183307Z",
     "iopub.status.busy": "2025-04-23T07:04:32.182901Z",
     "iopub.status.idle": "2025-04-23T07:04:32.211765Z",
     "shell.execute_reply": "2025-04-23T07:04:32.210808Z"
    },
    "papermill": {
     "duration": 0.038395,
     "end_time": "2025-04-23T07:04:32.213498",
     "exception": false,
     "start_time": "2025-04-23T07:04:32.175103",
     "status": "completed"
    },
    "tags": []
   },
   "outputs": [],
   "source": [
    "df['Number_of_Ads'].fillna(df['Number_of_Ads'].median(), inplace=True)\n",
    "df_test['Episode_Length_minutes'].fillna(df_test['Episode_Length_minutes'].median(), inplace= True)\n",
    "\n",
    "# same result with the test data\n",
    "df_test['Episode_Length_minutes'].fillna(df_test['Episode_Length_minutes'].median(), inplace= True)"
   ]
  },
  {
   "cell_type": "code",
   "execution_count": null,
   "id": "58e198bf",
   "metadata": {
    "execution": {
     "iopub.execute_input": "2025-04-23T07:04:32.226819Z",
     "iopub.status.busy": "2025-04-23T07:04:32.226485Z",
     "iopub.status.idle": "2025-04-23T07:04:32.477535Z",
     "shell.execute_reply": "2025-04-23T07:04:32.476368Z"
    },
    "papermill": {
     "duration": 0.259847,
     "end_time": "2025-04-23T07:04:32.479449",
     "exception": false,
     "start_time": "2025-04-23T07:04:32.219602",
     "status": "completed"
    },
    "tags": []
   },
   "outputs": [],
   "source": [
    "print(df.info())"
   ]
  },
  {
   "cell_type": "markdown",
   "id": "82a31369",
   "metadata": {
    "papermill": {
     "duration": 0.00581,
     "end_time": "2025-04-23T07:04:32.491627",
     "exception": false,
     "start_time": "2025-04-23T07:04:32.485817",
     "status": "completed"
    },
    "tags": []
   },
   "source": [
    "# Data exploration and featuring data\n"
   ]
  },
  {
   "cell_type": "code",
   "execution_count": null,
   "id": "345759d6",
   "metadata": {
    "execution": {
     "iopub.execute_input": "2025-04-23T07:04:32.505064Z",
     "iopub.status.busy": "2025-04-23T07:04:32.504619Z",
     "iopub.status.idle": "2025-04-23T07:04:39.652288Z",
     "shell.execute_reply": "2025-04-23T07:04:39.651245Z"
    },
    "papermill": {
     "duration": 7.176859,
     "end_time": "2025-04-23T07:04:39.674444",
     "exception": false,
     "start_time": "2025-04-23T07:04:32.497585",
     "status": "completed"
    },
    "tags": []
   },
   "outputs": [],
   "source": [
    "scatter = ['Episode_Length_minutes', 'Host_Popularity_percentage', 'Guest_Popularity_percentage', 'Number_of_Ads']\n",
    "fig, axes = plt.subplots(2, 2, figsize=(20, 10))\n",
    "axes = axes.flatten()\n",
    "\n",
    "for ax, i in zip(axes, scatter):\n",
    "    sns.scatterplot(data = df,x = i, y = 'Listening_Time_minutes',ax = ax)\n",
    "    ax.set_title(f'Scatterplot describe correlation between {i} and Listening_Time_minutes')\n",
    "    ax.set_xlabel(i)\n",
    "    ax.set_ylabel('Listening_Time_minutes')\n",
    "    ax.set_xlim(0, df[i].max() * 1.1)\n",
    "    for i in ax.get_xticklabels():\n",
    "        i.set_rotation(45)\n",
    "plt.tight_layout()\n",
    "plt.show()\n",
    "# Except Episode_Length_minutes, the other columns dont have a linear correlation with Listening_Time_minutes\n",
    "# So we will feature all these columns"
   ]
  },
  {
   "cell_type": "code",
   "execution_count": null,
   "id": "c6855cba",
   "metadata": {
    "execution": {
     "iopub.execute_input": "2025-04-23T07:04:39.720381Z",
     "iopub.status.busy": "2025-04-23T07:04:39.720074Z",
     "iopub.status.idle": "2025-04-23T07:04:49.111281Z",
     "shell.execute_reply": "2025-04-23T07:04:49.110306Z"
    },
    "papermill": {
     "duration": 9.416684,
     "end_time": "2025-04-23T07:04:49.113061",
     "exception": false,
     "start_time": "2025-04-23T07:04:39.696377",
     "status": "completed"
    },
    "tags": []
   },
   "outputs": [],
   "source": [
    "def popular(df):\n",
    "    avg_popularity = 0\n",
    "    if pd.isna(df['Guest_Popularity_percentage']):\n",
    "        avg_popularity = df['Host_Popularity_percentage']\n",
    "    else:\n",
    "        avg_popularity = (df['Host_Popularity_percentage'] + df['Guest_Popularity_percentage']) / 2\n",
    "    if avg_popularity <= 20:\n",
    "        return 'Not Very Popular'\n",
    "    elif 20 < avg_popularity <= 40:\n",
    "        return 'Not Popular'\n",
    "    elif 40 < avg_popularity <= 60:\n",
    "        return 'Average'\n",
    "    elif 60 < avg_popularity <= 80:\n",
    "        return 'Popular'\n",
    "    else:\n",
    "        return 'Very Popular'\n",
    "\n",
    "df['Popular_Level'] = df.apply(popular, axis=1)\n",
    "df.drop(columns=['Host_Popularity_percentage', 'Guest_Popularity_percentage'], inplace=True)\n",
    "df_test['Popular_Level'] = df_test.apply(popular, axis=1)\n",
    "df_test.drop(columns=['Host_Popularity_percentage', 'Guest_Popularity_percentage'], inplace=True)"
   ]
  },
  {
   "cell_type": "code",
   "execution_count": null,
   "id": "c107f518",
   "metadata": {
    "execution": {
     "iopub.execute_input": "2025-04-23T07:04:49.161710Z",
     "iopub.status.busy": "2025-04-23T07:04:49.161337Z",
     "iopub.status.idle": "2025-04-23T07:04:49.551206Z",
     "shell.execute_reply": "2025-04-23T07:04:49.550287Z"
    },
    "papermill": {
     "duration": 0.41629,
     "end_time": "2025-04-23T07:04:49.552963",
     "exception": false,
     "start_time": "2025-04-23T07:04:49.136673",
     "status": "completed"
    },
    "tags": []
   },
   "outputs": [],
   "source": [
    "df['Episode_Title'] = df['Episode_Title'].str.replace('Episode ', '').astype(int)\n",
    "df_test['Episode_Title'] = df_test['Episode_Title'].str.replace('Episode ', '').astype(int)\n",
    "\n"
   ]
  },
  {
   "cell_type": "code",
   "execution_count": null,
   "id": "961abf68",
   "metadata": {
    "execution": {
     "iopub.execute_input": "2025-04-23T07:04:49.602524Z",
     "iopub.status.busy": "2025-04-23T07:04:49.602210Z",
     "iopub.status.idle": "2025-04-23T07:04:49.664581Z",
     "shell.execute_reply": "2025-04-23T07:04:49.663722Z"
    },
    "papermill": {
     "duration": 0.088892,
     "end_time": "2025-04-23T07:04:49.666131",
     "exception": false,
     "start_time": "2025-04-23T07:04:49.577239",
     "status": "completed"
    },
    "tags": []
   },
   "outputs": [],
   "source": [
    "df['Podcast_Name'].value_counts()"
   ]
  },
  {
   "cell_type": "code",
   "execution_count": null,
   "id": "b3fd4004",
   "metadata": {
    "execution": {
     "iopub.execute_input": "2025-04-23T07:04:49.714449Z",
     "iopub.status.busy": "2025-04-23T07:04:49.714114Z",
     "iopub.status.idle": "2025-04-23T07:05:03.084622Z",
     "shell.execute_reply": "2025-04-23T07:05:03.083571Z"
    },
    "papermill": {
     "duration": 13.397053,
     "end_time": "2025-04-23T07:05:03.086449",
     "exception": false,
     "start_time": "2025-04-23T07:04:49.689396",
     "status": "completed"
    },
    "tags": []
   },
   "outputs": [],
   "source": [
    "def Podcast_Name(df):\n",
    "    if df['Podcast_Name'] in ['Tech Talks','Tech Trends', 'Gadget Geek', 'Digital Digest', 'Innovators']:\n",
    "        return 'Tech'\n",
    "    elif df['Podcast_Name'] in ['Game Day', 'Sports Weekly', \"Athlete's Arena\", 'Sports Central', 'Sport Spot']:\n",
    "        return 'Sports'\n",
    "    elif df['Podcast_Name'] in ['Business Insights', 'Business Briefs', 'Finance Focus', 'Money Matters', 'Market Masters']:\n",
    "        return 'Business'\n",
    "    elif df['Podcast_Name'] in ['Global News', 'World Watch', 'Current Affairs', 'Daily Digest', 'News Roundup']:\n",
    "        return 'News'\n",
    "    elif df['Podcast_Name'] in ['Funny Folks', 'Humor Hub', 'Comedy Corner', 'Joke Junction', 'Laugh Line']:\n",
    "        return 'Comedy'\n",
    "    elif df['Podcast_Name'] in ['Melody Mix', 'Tune Time', 'Sound Waves', 'Music Matters']:\n",
    "        return 'Music'\n",
    "    elif df['Podcast_Name'] in ['Style Guide', 'Fashion Forward', 'Lifestyle Lounge', 'Home & Living', 'Life Lessons']:\n",
    "        return 'Lifestyle'\n",
    "    elif df['Podcast_Name'] in ['Study Sessions', 'Learning Lab', 'Educational Nuggets', 'Brain Boost']:\n",
    "        return 'Education'\n",
    "    elif df['Podcast_Name'] in ['Detective Diaries', 'Crime Chronicles', 'True Crime Stories', 'Criminal Minds', 'Mystery Matters']:\n",
    "        return 'True Crime'\n",
    "    elif df['Podcast_Name'] in ['Fitness First', 'Wellness Wave', 'Mind & Body', 'Healthy Living', 'Health Hour']:\n",
    "        return 'Health'\n",
    "    else:\n",
    "        return 'Other'\n",
    "\n",
    "\n",
    "df['Podcast_Name'] = df.apply(Podcast_Name, axis=1)\n",
    "df_test['Podcast_Name'] = df_test.apply(Podcast_Name, axis=1)\n",
    "df['Podcast_Name'].value_counts()"
   ]
  },
  {
   "cell_type": "code",
   "execution_count": null,
   "id": "926f53e7",
   "metadata": {
    "execution": {
     "iopub.execute_input": "2025-04-23T07:05:03.140287Z",
     "iopub.status.busy": "2025-04-23T07:05:03.139983Z",
     "iopub.status.idle": "2025-04-23T07:05:03.228197Z",
     "shell.execute_reply": "2025-04-23T07:05:03.226716Z"
    },
    "papermill": {
     "duration": 0.118313,
     "end_time": "2025-04-23T07:05:03.230090",
     "exception": false,
     "start_time": "2025-04-23T07:05:03.111777",
     "status": "completed"
    },
    "tags": []
   },
   "outputs": [],
   "source": [
    "df_test.info()"
   ]
  },
  {
   "cell_type": "code",
   "execution_count": null,
   "id": "8bca1bb4",
   "metadata": {
    "execution": {
     "iopub.execute_input": "2025-04-23T07:05:03.281893Z",
     "iopub.status.busy": "2025-04-23T07:05:03.281031Z",
     "iopub.status.idle": "2025-04-23T07:05:10.811141Z",
     "shell.execute_reply": "2025-04-23T07:05:10.810199Z"
    },
    "papermill": {
     "duration": 7.557771,
     "end_time": "2025-04-23T07:05:10.812887",
     "exception": false,
     "start_time": "2025-04-23T07:05:03.255116",
     "status": "completed"
    },
    "tags": []
   },
   "outputs": [],
   "source": [
    "def genre(df):\n",
    "    if df['Genre'] in ['Comedy', 'Music', 'Lifestyle']:\n",
    "        return 'Entertainment'\n",
    "    elif df['Genre'] in ['News', 'True Crime', 'Business']:\n",
    "        return 'Events News'\n",
    "    elif df['Genre'] in ['Health', 'Education', 'Technology']:\n",
    "        return 'Information'\n",
    "    elif df['Genre'] in ['Sports']:\n",
    "        return 'Sports'\n",
    "    else:\n",
    "        return 'Other'\n",
    "df['Genre'] = df.apply(genre, axis=1)\n",
    "df_test['Genre'] = df_test.apply(genre, axis=1)"
   ]
  },
  {
   "cell_type": "code",
   "execution_count": null,
   "id": "a7575cec",
   "metadata": {
    "execution": {
     "iopub.execute_input": "2025-04-23T07:05:10.865403Z",
     "iopub.status.busy": "2025-04-23T07:05:10.864811Z",
     "iopub.status.idle": "2025-04-23T07:05:10.940058Z",
     "shell.execute_reply": "2025-04-23T07:05:10.938883Z"
    },
    "papermill": {
     "duration": 0.105546,
     "end_time": "2025-04-23T07:05:10.943905",
     "exception": false,
     "start_time": "2025-04-23T07:05:10.838359",
     "status": "completed"
    },
    "tags": []
   },
   "outputs": [],
   "source": [
    "df['ratio_Ads'] = df['Number_of_Ads'] / df['Episode_Length_minutes']\n",
    "df_test['ratio_Ads'] = df_test['Number_of_Ads'] / df_test['Episode_Length_minutes']"
   ]
  },
  {
   "cell_type": "markdown",
   "id": "c4f4f548",
   "metadata": {
    "papermill": {
     "duration": 0.025503,
     "end_time": "2025-04-23T07:05:11.006442",
     "exception": false,
     "start_time": "2025-04-23T07:05:10.980939",
     "status": "completed"
    },
    "tags": []
   },
   "source": [
    ">Visualization all the categories variables# "
   ]
  },
  {
   "cell_type": "code",
   "execution_count": null,
   "id": "2f1f703e",
   "metadata": {
    "execution": {
     "iopub.execute_input": "2025-04-23T07:05:11.058316Z",
     "iopub.status.busy": "2025-04-23T07:05:11.058004Z",
     "iopub.status.idle": "2025-04-23T07:05:31.835553Z",
     "shell.execute_reply": "2025-04-23T07:05:31.834598Z"
    },
    "papermill": {
     "duration": 20.809583,
     "end_time": "2025-04-23T07:05:31.841313",
     "exception": false,
     "start_time": "2025-04-23T07:05:11.031730",
     "status": "completed"
    },
    "tags": []
   },
   "outputs": [],
   "source": [
    "objects = ['Genre', 'Publication_Day', 'Publication_Time', 'Episode_Sentiment', 'Popular_Level', 'Podcast_Name']\n",
    "fig, axes = plt.subplots(3, 2, figsize=(20, 10))\n",
    "axes = axes.flatten()\n",
    "for ax, i in zip(axes, objects):\n",
    "    sns.histplot(data = df,x = i,ax = ax, kde=True, stat='density', bins=30)\n",
    "    ax.set_title(f'Hisplot describe for {i}')\n",
    "    ax.set_xlabel(i)\n",
    "    for i in ax.get_xticklabels():\n",
    "        i.set_rotation(45)\n",
    "plt.tight_layout()\n",
    "plt.show()"
   ]
  },
  {
   "cell_type": "markdown",
   "id": "5b45daf0",
   "metadata": {
    "papermill": {
     "duration": 0.028317,
     "end_time": "2025-04-23T07:05:31.898022",
     "exception": false,
     "start_time": "2025-04-23T07:05:31.869705",
     "status": "completed"
    },
    "tags": []
   },
   "source": [
    "> Creating Boxplot and Countplot "
   ]
  },
  {
   "cell_type": "code",
   "execution_count": null,
   "id": "e5dd436f",
   "metadata": {
    "execution": {
     "iopub.execute_input": "2025-04-23T07:05:31.957761Z",
     "iopub.status.busy": "2025-04-23T07:05:31.957406Z",
     "iopub.status.idle": "2025-04-23T07:05:38.757641Z",
     "shell.execute_reply": "2025-04-23T07:05:38.756734Z"
    },
    "papermill": {
     "duration": 6.837615,
     "end_time": "2025-04-23T07:05:38.764577",
     "exception": false,
     "start_time": "2025-04-23T07:05:31.926962",
     "status": "completed"
    },
    "tags": []
   },
   "outputs": [],
   "source": [
    "fig, axes = plt.subplots(6, 2, figsize=(20, 30)) \n",
    "axes = axes.flatten()\n",
    "\n",
    "for idx, col in enumerate(objects):\n",
    "    sns.countplot(data=df, x=col, ax=axes[2*idx])\n",
    "    axes[2*idx].set_title(f'Countplot for {col}')\n",
    "    axes[2*idx].set_xlabel(col)\n",
    "    for label in axes[2*idx].get_xticklabels():\n",
    "        label.set_rotation(45)\n",
    "    \n",
    "    sns.boxplot(data=df, x=col, y='Listening_Time_minutes', ax=axes[2*idx+1])\n",
    "    axes[2*idx+1].set_title(f'Boxplot for {col} vs Listening_Time')\n",
    "    axes[2*idx+1].set_xlabel(col)\n",
    "    for label in axes[2*idx+1].get_xticklabels():\n",
    "        label.set_rotation(45)\n",
    "\n",
    "plt.tight_layout()\n",
    "plt.show()"
   ]
  },
  {
   "cell_type": "code",
   "execution_count": null,
   "id": "beb76fd0",
   "metadata": {},
   "outputs": [],
   "source": []
  },
  {
   "cell_type": "markdown",
   "id": "56596a86",
   "metadata": {
    "papermill": {
     "duration": 0.032681,
     "end_time": "2025-04-23T07:05:38.830729",
     "exception": false,
     "start_time": "2025-04-23T07:05:38.798048",
     "status": "completed"
    },
    "tags": []
   },
   "source": [
    "# Data Preparation and Model "
   ]
  },
  {
   "cell_type": "code",
   "execution_count": null,
   "id": "e7bf961a",
   "metadata": {
    "execution": {
     "iopub.execute_input": "2025-04-23T07:05:38.898979Z",
     "iopub.status.busy": "2025-04-23T07:05:38.898643Z",
     "iopub.status.idle": "2025-04-23T07:05:38.903897Z",
     "shell.execute_reply": "2025-04-23T07:05:38.902998Z"
    },
    "papermill": {
     "duration": 0.041088,
     "end_time": "2025-04-23T07:05:38.905489",
     "exception": false,
     "start_time": "2025-04-23T07:05:38.864401",
     "status": "completed"
    },
    "tags": []
   },
   "outputs": [],
   "source": [
    "mood = ['Negative', 'Neutral', 'Positive']\n",
    "popularity = ['Not Very Popular','Not Popular','Average', 'Popular','Very Popular']\n",
    "ord = OrdinalEncoder(categories=[mood, popularity])\n",
    "\n",
    "columns_ordinal_encode = ['Episode_Sentiment', 'Popular_Level']\n",
    "columns_label_encode = ['Genre', 'Publication_Day', 'Publication_Time', 'Podcast_Name']\n",
    "num_cols = ['Episode_Length_minutes', 'Number_of_Ads', 'ratio_Ads', 'Episode_Title']\n"
   ]
  },
  {
   "cell_type": "code",
   "execution_count": null,
   "id": "39943ab8",
   "metadata": {
    "execution": {
     "iopub.execute_input": "2025-04-23T07:05:38.976987Z",
     "iopub.status.busy": "2025-04-23T07:05:38.976311Z",
     "iopub.status.idle": "2025-04-23T07:05:38.981583Z",
     "shell.execute_reply": "2025-04-23T07:05:38.980693Z"
    },
    "papermill": {
     "duration": 0.042856,
     "end_time": "2025-04-23T07:05:38.983336",
     "exception": false,
     "start_time": "2025-04-23T07:05:38.940480",
     "status": "completed"
    },
    "tags": []
   },
   "outputs": [],
   "source": [
    "preprocessing = ColumnTransformer([\n",
    "    ('Ordinal', ord, columns_ordinal_encode),\n",
    "    ('LabelEncoder', OrdinalEncoder(), columns_label_encode),\n",
    "    ('StandardScale', StandardScaler(),num_cols)\n",
    "])\n",
    "input = [\n",
    "    ('preprocess', preprocessing),\n",
    "    ('model', Ridge())]\n",
    "pipe = Pipeline(input)"
   ]
  },
  {
   "cell_type": "code",
   "execution_count": null,
   "id": "d44b54ee",
   "metadata": {
    "execution": {
     "iopub.execute_input": "2025-04-23T07:05:39.054203Z",
     "iopub.status.busy": "2025-04-23T07:05:39.053883Z",
     "iopub.status.idle": "2025-04-23T07:05:39.341742Z",
     "shell.execute_reply": "2025-04-23T07:05:39.340821Z"
    },
    "papermill": {
     "duration": 0.32585,
     "end_time": "2025-04-23T07:05:39.343645",
     "exception": false,
     "start_time": "2025-04-23T07:05:39.017795",
     "status": "completed"
    },
    "tags": []
   },
   "outputs": [],
   "source": [
    "X = df.drop(columns=['id', 'Listening_Time_minutes'])\n",
    "Y = df['Listening_Time_minutes']\n",
    "X_train, X_test, Y_train, Y_test = train_test_split(X, Y, test_size=0.2, random_state=42)"
   ]
  },
  {
   "cell_type": "markdown",
   "id": "b992f2b8",
   "metadata": {
    "papermill": {
     "duration": 0.033113,
     "end_time": "2025-04-23T07:05:39.410567",
     "exception": false,
     "start_time": "2025-04-23T07:05:39.377454",
     "status": "completed"
    },
    "tags": []
   },
   "source": [
    "**It seem like XGBoost work best for this data so I am using XGBoost instead.**"
   ]
  },
  {
   "cell_type": "code",
   "execution_count": null,
   "id": "3336d2c0",
   "metadata": {
    "execution": {
     "iopub.execute_input": "2025-04-23T07:05:39.479323Z",
     "iopub.status.busy": "2025-04-23T07:05:39.478992Z",
     "iopub.status.idle": "2025-04-23T07:05:39.484645Z",
     "shell.execute_reply": "2025-04-23T07:05:39.483610Z"
    },
    "papermill": {
     "duration": 0.04228,
     "end_time": "2025-04-23T07:05:39.486329",
     "exception": false,
     "start_time": "2025-04-23T07:05:39.444049",
     "status": "completed"
    },
    "tags": []
   },
   "outputs": [],
   "source": [
    "param_grid = [\n",
    "    {\n",
    "        'model': [xgb.XGBRegressor()],\n",
    "        'model__n_estimators': [100],\n",
    "        'model__learning_rate': [0.1],\n",
    "        'model__max_depth': [10],\n",
    "        'model__subsample': [0.9],\n",
    "        'model__gamma': [0.4],\n",
    "        'model__n_jobs': [-1],\n",
    "        'model__reg_alpha': [0.1],\n",
    "        'model__reg_lambda': [1],\n",
    "        'model__colsample_bytree': [0.65]\n",
    "        \n",
    "    }\n",
    "]"
   ]
  },
  {
   "cell_type": "code",
   "execution_count": null,
   "id": "3004a2af",
   "metadata": {
    "execution": {
     "iopub.execute_input": "2025-04-23T07:05:39.625149Z",
     "iopub.status.busy": "2025-04-23T07:05:39.624829Z",
     "iopub.status.idle": "2025-04-23T07:06:19.308957Z",
     "shell.execute_reply": "2025-04-23T07:06:19.308052Z"
    },
    "papermill": {
     "duration": 39.753281,
     "end_time": "2025-04-23T07:06:19.343572",
     "exception": false,
     "start_time": "2025-04-23T07:05:39.590291",
     "status": "completed"
    },
    "tags": []
   },
   "outputs": [],
   "source": [
    "k_cv = KFold(n_splits= 4, shuffle=True, random_state=42)\n",
    "grid_search = GridSearchCV(pipe, param_grid, cv=k_cv, scoring= 'r2')\n",
    "grid_search.fit(X_train, Y_train)\n",
    "\n",
    "print('Best score of the model is: ')\n",
    "print(f\"Best score: {grid_search.best_score_}\")\n",
    "print(f\"Which will use the model: \\n {grid_search.best_estimator_}\")"
   ]
  },
  {
   "cell_type": "code",
   "execution_count": null,
   "id": "d562691a",
   "metadata": {},
   "outputs": [],
   "source": [
    "# from category_encoders import TargetEncoder\n",
    "# from sklearn.model_selection import GridSearchCV\n",
    "# from sklearn.metrics import mean_squared_error\n",
    "\n",
    "# # 1. Encode training and test sets outside the pipeline\n",
    "# encoder = TargetEncoder()\n",
    "# X_train_encoded = encoder.fit_transform(X_train, Y_train)\n",
    "# X_test_encoded = encoder.transform(X_test)\n",
    "\n",
    "# # 2. Fit GridSearchCV directly on the encoded data\n",
    "# grid_search.fit(X_train_encoded, Y_train)\n",
    "\n",
    "# # 3. Predict on the same encoded training data\n",
    "# Y_pred_train = grid_search.best_estimator_.predict(X_train_encoded)\n",
    "\n",
    "# # 4. Evaluate\n",
    "# print(mean_squared_error(Y_train, Y_pred_train))"
   ]
  },
  {
   "cell_type": "code",
   "execution_count": null,
   "id": "408db2ce",
   "metadata": {
    "execution": {
     "iopub.execute_input": "2025-04-23T07:06:19.411336Z",
     "iopub.status.busy": "2025-04-23T07:06:19.411013Z",
     "iopub.status.idle": "2025-04-23T07:06:21.647822Z",
     "shell.execute_reply": "2025-04-23T07:06:21.646610Z"
    },
    "papermill": {
     "duration": 2.273254,
     "end_time": "2025-04-23T07:06:21.649841",
     "exception": false,
     "start_time": "2025-04-23T07:06:19.376587",
     "status": "completed"
    },
    "tags": []
   },
   "outputs": [],
   "source": [
    "Y_pred_train = grid_search.best_estimator_.predict(X_train)\n",
    "print(mean_squared_error(Y_train , Y_pred_train))\n",
    "\n",
    "# encoder = TargetEncoder()\n",
    "# X_train_encoded = encoder.fit_transform(X_train, Y_train)\n",
    "# X_test_encoded = encoder.transform(X_test)\n",
    "\n",
    "# # Now run GridSearch on the encoded data\n",
    "# grid_search.fit(X_train_encoded, Y_train)\n",
    "# Y_pred_train = grid_search.best_estimator_.predict(X_train_encoded)\n",
    "\n",
    "\n",
    "# from category_encoders import TargetEncoder\n",
    "\n",
    "# # Manually encode training data\n",
    "# encoder = TargetEncoder()\n",
    "# X_train_encoded = encoder.fit_transform(X_train, Y_train)\n",
    "\n",
    "# # Then fit grid search directly\n",
    "# grid_search.fit(X_train_encoded, Y_train)\n",
    "\n",
    "# # Predict using the best estimator\n",
    "# Y_pred_train = grid_search.best_estimator_.predict(X_train_encoded)"
   ]
  },
  {
   "cell_type": "code",
   "execution_count": null,
   "id": "ec52ee99",
   "metadata": {},
   "outputs": [],
   "source": [
    "%pip install --upgrade category_encoders"
   ]
  },
  {
   "cell_type": "code",
   "execution_count": null,
   "id": "9aedec89",
   "metadata": {},
   "outputs": [],
   "source": [
    "%pip install scikit-learn==1.1.3"
   ]
  },
  {
   "cell_type": "code",
   "execution_count": null,
   "id": "cca7f178",
   "metadata": {},
   "outputs": [],
   "source": [
    "from sklearn.preprocessing import OrdinalEncoder\n",
    "\n",
    "encoder = OrdinalEncoder()\n",
    "X_train_encoded = encoder.fit_transform(X_train)\n",
    "X_test_encoded = encoder.transform(X_test)"
   ]
  },
  {
   "cell_type": "code",
   "execution_count": null,
   "id": "2fc45bf5",
   "metadata": {},
   "outputs": [],
   "source": [
    "%pip uninstall category_encoders scikit-learn -y\n",
    "%pip install category_encoders==2.6.0 scikit-learn==1.2.2"
   ]
  },
  {
   "cell_type": "code",
   "execution_count": null,
   "id": "1c06e890",
   "metadata": {
    "execution": {
     "iopub.execute_input": "2025-04-23T07:06:21.720844Z",
     "iopub.status.busy": "2025-04-23T07:06:21.720475Z",
     "iopub.status.idle": "2025-04-23T07:06:22.280468Z",
     "shell.execute_reply": "2025-04-23T07:06:22.278567Z"
    },
    "papermill": {
     "duration": 0.597763,
     "end_time": "2025-04-23T07:06:22.282014",
     "exception": false,
     "start_time": "2025-04-23T07:06:21.684251",
     "status": "completed"
    },
    "tags": []
   },
   "outputs": [],
   "source": [
    "Y_pred_test = grid_search.best_estimator_.predict(X_test)\n",
    "print(mean_squared_error(Y_test , Y_pred_test))"
   ]
  },
  {
   "cell_type": "code",
   "execution_count": null,
   "id": "19014352",
   "metadata": {
    "execution": {
     "iopub.execute_input": "2025-04-23T07:06:22.354675Z",
     "iopub.status.busy": "2025-04-23T07:06:22.354322Z",
     "iopub.status.idle": "2025-04-23T07:06:22.364005Z",
     "shell.execute_reply": "2025-04-23T07:06:22.362951Z"
    },
    "papermill": {
     "duration": 0.048975,
     "end_time": "2025-04-23T07:06:22.365907",
     "exception": false,
     "start_time": "2025-04-23T07:06:22.316932",
     "status": "completed"
    },
    "tags": []
   },
   "outputs": [],
   "source": [
    "print(f'Root_mean_square_error is: {np.sqrt(mean_squared_error(Y_train , Y_pred_train))}')"
   ]
  },
  {
   "cell_type": "code",
   "execution_count": null,
   "id": "926994ba",
   "metadata": {
    "execution": {
     "iopub.execute_input": "2025-04-23T07:06:22.436975Z",
     "iopub.status.busy": "2025-04-23T07:06:22.436263Z",
     "iopub.status.idle": "2025-04-23T07:06:22.442940Z",
     "shell.execute_reply": "2025-04-23T07:06:22.441742Z"
    },
    "papermill": {
     "duration": 0.043168,
     "end_time": "2025-04-23T07:06:22.444411",
     "exception": false,
     "start_time": "2025-04-23T07:06:22.401243",
     "status": "completed"
    },
    "tags": []
   },
   "outputs": [],
   "source": [
    "print(f'Root_mean_square_error is: {np.sqrt(mean_squared_error(Y_test , Y_pred_test))}')"
   ]
  },
  {
   "cell_type": "code",
   "execution_count": null,
   "id": "3b160a49",
   "metadata": {
    "execution": {
     "iopub.execute_input": "2025-04-23T07:06:22.513886Z",
     "iopub.status.busy": "2025-04-23T07:06:22.513305Z",
     "iopub.status.idle": "2025-04-23T07:06:22.602006Z",
     "shell.execute_reply": "2025-04-23T07:06:22.601064Z"
    },
    "papermill": {
     "duration": 0.125045,
     "end_time": "2025-04-23T07:06:22.603463",
     "exception": false,
     "start_time": "2025-04-23T07:06:22.478418",
     "status": "completed"
    },
    "tags": []
   },
   "outputs": [],
   "source": [
    "df_test.info()"
   ]
  },
  {
   "cell_type": "code",
   "execution_count": null,
   "id": "a00227a6",
   "metadata": {
    "execution": {
     "iopub.execute_input": "2025-04-23T07:06:22.673715Z",
     "iopub.status.busy": "2025-04-23T07:06:22.673356Z",
     "iopub.status.idle": "2025-04-23T07:06:22.678763Z",
     "shell.execute_reply": "2025-04-23T07:06:22.677734Z"
    },
    "papermill": {
     "duration": 0.042505,
     "end_time": "2025-04-23T07:06:22.680399",
     "exception": false,
     "start_time": "2025-04-23T07:06:22.637894",
     "status": "completed"
    },
    "tags": []
   },
   "outputs": [],
   "source": [
    "best_model = grid_search.best_estimator_.named_steps['model']\n",
    "print(best_model.reg_lambda)"
   ]
  },
  {
   "cell_type": "markdown",
   "id": "eae36c34",
   "metadata": {
    "papermill": {
     "duration": 0.033993,
     "end_time": "2025-04-23T07:06:22.749898",
     "exception": false,
     "start_time": "2025-04-23T07:06:22.715905",
     "status": "completed"
    },
    "tags": []
   },
   "source": [
    "# My Submission"
   ]
  },
  {
   "cell_type": "code",
   "execution_count": null,
   "id": "a1b13154",
   "metadata": {
    "execution": {
     "iopub.execute_input": "2025-04-23T07:06:22.820362Z",
     "iopub.status.busy": "2025-04-23T07:06:22.820056Z",
     "iopub.status.idle": "2025-04-23T07:06:23.732633Z",
     "shell.execute_reply": "2025-04-23T07:06:23.731291Z"
    },
    "papermill": {
     "duration": 0.951752,
     "end_time": "2025-04-23T07:06:23.735689",
     "exception": false,
     "start_time": "2025-04-23T07:06:22.783937",
     "status": "completed"
    },
    "tags": []
   },
   "outputs": [],
   "source": [
    "df_test['predict'] = grid_search.best_estimator_.predict(df_test.drop(columns = ['id']))\n",
    "df_submission = pd.DataFrame({\n",
    "    'id': df_test['id'], \n",
    "    'Listening_Time_minutes' : df_test['predict']\n",
    "})"
   ]
  },
  {
   "cell_type": "code",
   "execution_count": null,
   "id": "2bb6132f",
   "metadata": {
    "execution": {
     "iopub.execute_input": "2025-04-23T07:06:23.806821Z",
     "iopub.status.busy": "2025-04-23T07:06:23.806492Z",
     "iopub.status.idle": "2025-04-23T07:06:24.229679Z",
     "shell.execute_reply": "2025-04-23T07:06:24.228726Z"
    },
    "papermill": {
     "duration": 0.460401,
     "end_time": "2025-04-23T07:06:24.231348",
     "exception": false,
     "start_time": "2025-04-23T07:06:23.770947",
     "status": "completed"
    },
    "tags": []
   },
   "outputs": [],
   "source": [
    "df_submission.to_csv('submission.csv', index = False)\n",
    "df_submission.info()"
   ]
  }
 ],
 "metadata": {
  "kaggle": {
   "accelerator": "none",
   "dataSources": [
    {
     "databundleVersionId": 11351736,
     "sourceId": 91715,
     "sourceType": "competition"
    }
   ],
   "dockerImageVersionId": 31012,
   "isGpuEnabled": false,
   "isInternetEnabled": true,
   "language": "python",
   "sourceType": "notebook"
  },
  "kernelspec": {
   "display_name": "base",
   "language": "python",
   "name": "python3"
  },
  "language_info": {
   "codemirror_mode": {
    "name": "ipython",
    "version": 3
   },
   "file_extension": ".py",
   "mimetype": "text/x-python",
   "name": "python",
   "nbconvert_exporter": "python",
   "pygments_lexer": "ipython3",
   "version": "3.12.4"
  },
  "papermill": {
   "default_parameters": {},
   "duration": 133.419969,
   "end_time": "2025-04-23T07:06:25.489865",
   "environment_variables": {},
   "exception": null,
   "input_path": "__notebook__.ipynb",
   "output_path": "__notebook__.ipynb",
   "parameters": {},
   "start_time": "2025-04-23T07:04:12.069896",
   "version": "2.6.0"
  }
 },
 "nbformat": 4,
 "nbformat_minor": 5
}
